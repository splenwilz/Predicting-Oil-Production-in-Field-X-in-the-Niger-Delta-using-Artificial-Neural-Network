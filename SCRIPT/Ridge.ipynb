{
  "nbformat": 4,
  "nbformat_minor": 0,
  "metadata": {
    "colab": {
      "provenance": [],
      "authorship_tag": "ABX9TyOfz2Pc+hm8pWDYXCbYR+P+",
      "include_colab_link": true
    },
    "kernelspec": {
      "name": "python3",
      "display_name": "Python 3"
    },
    "language_info": {
      "name": "python"
    }
  },
  "cells": [
    {
      "cell_type": "markdown",
      "metadata": {
        "id": "view-in-github",
        "colab_type": "text"
      },
      "source": [
        "<a href=\"https://colab.research.google.com/github/splenwilz/Predicting-Oil-Production-in-Field-X-in-the-Niger-Delta-using-Artificial-Neural-Network/blob/main/SCRIPT/Ridge.ipynb\" target=\"_parent\"><img src=\"https://colab.research.google.com/assets/colab-badge.svg\" alt=\"Open In Colab\"/></a>"
      ]
    },
    {
      "cell_type": "code",
      "execution_count": 1,
      "metadata": {
        "colab": {
          "base_uri": "https://localhost:8080/",
          "height": 517
        },
        "id": "whqbyae8tl1Z",
        "outputId": "9be1a877-9907-4d9e-ff03-49e012cf46de"
      },
      "outputs": [
        {
          "output_type": "stream",
          "name": "stdout",
          "text": [
            "{'train_score': 81.92502501317912, 'test_score': 83.41799926055678, 'forecast_set': array([246.90929781, 247.92021081, 248.05560095, 246.92734983,\n",
            "       248.85891574, 247.20715611, 248.29930319, 246.06085297,\n",
            "       247.61332651, 213.17007644])}\n",
            "RMSE TEST:  555.878298115368\n",
            "RMSE Train:  571.350728820866\n",
            " Mean Squared Error (MSE)  :  309000.682315638\n",
            " Mean Absolute  Error  :  267.400044773178\n",
            " R Squared  :  0.8341799926055679\n",
            " Accuracy: 83.418%\n",
            "Ridge()\n"
          ]
        },
        {
          "output_type": "display_data",
          "data": {
            "text/plain": [
              "<Figure size 720x360 with 0 Axes>"
            ]
          },
          "metadata": {}
        },
        {
          "output_type": "display_data",
          "data": {
            "text/plain": [
              "<Figure size 432x288 with 1 Axes>"
            ],
            "image/png": "[encoded data removed]"
          },
          "metadata": {
            "needs_background": "light"
          }
        }
      ],
      "source": [
        "# -*- coding: utf-8 -*-\n",
        "\"\"\"\n",
        "Created on Mon Dec 25 04:46:52 2022\n",
        "\n",
        "@author: Godswill William\n",
        "\"\"\"\n",
        "\n",
        "\n",
        "import numpy as np # linear algebra\n",
        "import pandas as pd # data processing, CSV file I/O (e.g. pd.read_csv)\n",
        "from sklearn import preprocessing;\n",
        "#from sklearn.neighbors import KNeighborsRegressor\n",
        "#from sklearn.linear_model import LinearRegression\n",
        "from sklearn.linear_model import Ridge\n",
        "#from sklearn.linear_model import Lasso\n",
        "#from sklearn.linear_model import ElasticNet\n",
        "#from sklearn.tree import DecisionTreeRegressor\n",
        "#from sklearn.svm import SVR\n",
        "\n",
        "\n",
        "\n",
        "\n",
        "\n",
        "from  sklearn.model_selection  import train_test_split \n",
        "from sklearn import metrics\n",
        "\n",
        "\n",
        "# Input data files are available in the \"../input/\" directory.\n",
        "# For example, running this (by clicking run or pressing Shift+Enter) will list the files in the input directory\n",
        "\n",
        "\n",
        "def prepare_data(df,forecast_col,forecast_out,test_size):\n",
        "    label = df[forecast_col].shift(-forecast_out);#creating new column called label with the last 10 rows are nan\n",
        "    X = np.array(df[[forecast_col]]); #creating the feature array\n",
        "    X = preprocessing.scale(X) #processing the feature array\n",
        "    X_lately = X[-forecast_out:] #creating the column i want to use later in the predicting method\n",
        "    X = X[:-forecast_out] # X that will contain the training and testing\n",
        "    label.dropna(inplace=True); #dropping na values\n",
        "    df.index = df.DATEPRD\n",
        "    df.drop('DATEPRD', axis=1, inplace=True)\n",
        "    df.index = df.NPD_WELL_BORE_CODE\n",
        "    df.drop('NPD_WELL_BORE_CODE', axis=1, inplace=True)\n",
        "    y = np.array(label)  # assigning Y\n",
        "    X_train, X_test, Y_train, Y_test = train_test_split(X, y, test_size=test_size) #cross validation \n",
        "\n",
        "    response = [X_train,X_test , Y_train, Y_test , X_lately];\n",
        "    return response;\n",
        "\n",
        "\n",
        "\n",
        "\n",
        "url = 'https://raw.githubusercontent.com/splenwilz/Predicting-Oil-Production-in-Field-X-in-the-Niger-Delta-using-Artificial-Neural-Network/main/DATASET/final_vpd.csv'\n",
        "df = pd.read_csv(url, index_col=0)\n",
        "\n",
        "\n",
        "\n",
        "\n",
        "forecast_col = 'BORE_OIL_VOL'#choosing which column to forecast\n",
        "forecast_out = 10 #how far to forecast \n",
        "test_size = 0.3; #the size of my test set\n",
        "\n",
        "X_train, X_test, Y_train, Y_test , X_lately =prepare_data(df,forecast_col,forecast_out,test_size); #calling the method were the cross validation and data preperation is in\n",
        "\n",
        "\n",
        "\n",
        "#initializing  regression model\n",
        "#learner = KNeighborsRegressor(); #initializing  regression model\n",
        "#learner = DecisionTreeRegressor()\n",
        "learner = Ridge()\n",
        "\n",
        "\n",
        "learner.fit(X_train,Y_train); #training the  model\n",
        "score=learner.score(X_train,Y_train)\n",
        "score2=learner.score(X_test,Y_test);#testing  model\n",
        "predictions_test = learner.predict(X_test)\n",
        "predictions_train = learner.predict(X_train)\n",
        "\n",
        "forecast= learner.predict(X_lately); #set that will contain the forecasted data\n",
        "response={};#creting json object\n",
        "response['train_score']=score*100;\n",
        "response['test_score']=score2*100; \n",
        "response['forecast_set']=forecast;\n",
        "\n",
        "print(response);\n",
        "\n",
        "\n",
        "# Calculate the root mean square error (RMSE) for test and training data\n",
        "N = len(Y_test)\n",
        "rmse_test = np.sqrt(np.sum((np.array(Y_test).flatten() - np.array(predictions_test).flatten())**2)/N)\n",
        "print(\"RMSE TEST: \", rmse_test)\n",
        "\n",
        "N = len(Y_train)\n",
        "rmse_train = np.sqrt(np.sum((np.array(Y_train).flatten() - np.array(predictions_train).flatten())**2)/N)\n",
        "print(\"RMSE Train: \", rmse_train)\n",
        "\n",
        "# Calculate the mean square error (MSE) \n",
        "MSE = metrics.mean_squared_error(Y_test, predictions_test)\n",
        "print( \" Mean Squared Error (MSE)  : \" , MSE)\n",
        "\n",
        "# Calculate the Mean Absolute  Error (MAE) \n",
        "MAE = metrics.mean_absolute_error(Y_test, predictions_test)\n",
        "print( \" Mean Absolute  Error  : \" , MAE)\n",
        "\n",
        "# Calculate the Mean Absolute  Error (MAE) \n",
        "rSquared = metrics.r2_score(Y_test, predictions_test, multioutput='variance_weighted')\n",
        "print( \" R Squared  : \" , rSquared)\n",
        "\n",
        "\n",
        "result = learner.score(X_test, Y_test)\n",
        "print((\" Accuracy: %.3f%%\") % (result*100.0))\n",
        "print(learner)\n",
        "\n",
        "\n",
        "#import matplotlib.pyplot as plt\n",
        "#df['Total flow'].plot()\n",
        "#plt.scatter(X_train,Y_train)\n",
        "#plt.show()\n",
        "import matplotlib.pyplot as plt\n",
        "from matplotlib import style\n",
        "\n",
        "plt.figure(figsize = (10, 5))\n",
        "plt.subplots()\n",
        "style.use('fivethirtyeight')\n",
        "#df['Total flow'].plot()\n",
        "plt.scatter(X_train,predictions_train, label='Trained Value')\n",
        "plt.scatter(X_test,predictions_test,label='Test Value')\n",
        "plt.title('Forecasting Bore Oil Volume')\n",
        "plt.xlabel('True' )\n",
        "plt.ylabel('Predictions')\n",
        "#plt.axis([-10, 40, 0, 50])\n",
        "plt.grid(True)\n",
        "plt.legend()\n",
        "plt.savefig('Ridge.png')\n",
        "plt.show()\n"
      ]
    }
  ]
}